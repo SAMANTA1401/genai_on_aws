{
 "cells": [
  {
   "cell_type": "code",
   "execution_count": null,
   "metadata": {},
   "outputs": [],
   "source": [
    "!pip install sagemaker U"
   ]
  },
  {
   "cell_type": "code",
   "execution_count": null,
   "metadata": {},
   "outputs": [],
   "source": [
    "import sagemaker\n",
    "import boto3"
   ]
  },
  {
   "cell_type": "code",
   "execution_count": null,
   "metadata": {},
   "outputs": [],
   "source": [
    "sess = sagemaker.Session()\n",
    "#sagemaker session bucket -> used for uoloading data, models and logs\n",
    "#sagemaker will automatically create this bucket if it not existx\n",
    "\n",
    "sagemaker_session_bucket = None\n",
    "if sagemaker_session_bucket is None and sess is not None:\n",
    "    #set to default bucket if a bucket name is not given\n",
    "    sagemaker_session_bucket = sess.default_bucket()\n",
    "\n",
    "## Role Management\n",
    "\n",
    "try:\n",
    "    role = sagemaker.get_execution_role() \n",
    "except ValueError:\n",
    "    iam = boto3.client(\"iam\")\n",
    "    role = iam.get_role(RoleName = 'sagemaker_execution_role')['Role']['Arn']\n",
    "\n",
    "session = sagemaker.Session(default_bucket = sagemaker_session_bucket) \n",
    "\n",
    "print(f'sagemaker role arn :{role}')\n",
    "print(f\"sagemaker session region:{sess.boto_region_name}\") \n",
    "    "
   ]
  },
  {
   "cell_type": "code",
   "execution_count": null,
   "metadata": {},
   "outputs": [],
   "source": [
    "from sagemaker.huggingface.model import HuggingFaceModel\n",
    "\n",
    "# Hub model configuration <https://huggingface.co/models>\n",
    "hub = {\n",
    "     'HF_MODEL_ID':'distilbert-base-uncased-distilled-squad' , # MODEL  id from hf.co/models\n",
    "     'HF_TASK': 'question-answering'\n",
    "     }\n",
    "# create Hugging face Model class\n",
    "huggingface_model = HuggingFaceModel(\n",
    "    env = hub, \n",
    "    role = role, \n",
    "    transformers_version=\"4.26\", \n",
    "    pytorch_version=\"1.13\", \n",
    "    py_version=\"py39\", \n",
    ")\n",
    "\n",
    "# deploy model to sagemaker inference\n",
    "predictor = huggingface_model.deploy( \n",
    "    initial_instance_count=1, \n",
    "    instance_type=\"ml.m5.xlarge\" \n",
    ")\n",
    "\n",
    "#example request: you always need to define \"inputs\"\n",
    "\n",
    "data = {\n",
    "    \"inputs\":{\n",
    "        \"question\": \"what is used for inference?\", \n",
    "        \"context\": \"My Name is Philip and I live in  Nuremberg. This model is used with sagemaker for inference.\"\n",
    "    } \n",
    "}\n",
    "\n",
    "# request\n",
    "predictor.predict(data)\n",
    "\n",
    "\n"
   ]
  },
  {
   "cell_type": "code",
   "execution_count": null,
   "metadata": {},
   "outputs": [],
   "source": [
    "# 1:28:25"
   ]
  }
 ],
 "metadata": {
  "language_info": {
   "name": "python"
  }
 },
 "nbformat": 4,
 "nbformat_minor": 2
}
